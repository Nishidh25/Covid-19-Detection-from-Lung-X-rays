{
  "nbformat": 4,
  "nbformat_minor": 0,
  "metadata": {
    "colab": {
      "name": "Covid-19 Detection from Lung X-rays Web App.ipynb",
      "provenance": [],
      "collapsed_sections": [],
      "authorship_tag": "ABX9TyPtd91iYdXacRalJ28OXx4Y",
      "include_colab_link": true
    },
    "kernelspec": {
      "name": "python3",
      "display_name": "Python 3"
    }
  },
  "cells": [
    {
      "cell_type": "markdown",
      "metadata": {
        "id": "view-in-github",
        "colab_type": "text"
      },
      "source": [
        "<a href=\"https://colab.research.google.com/github/Nishidh25/Covid-19-Detection-from-Lung-X-rays/blob/master/Covid_19_Detection_from_Lung_X_rays_Web_App.ipynb\" target=\"_parent\"><img src=\"https://colab.research.google.com/assets/colab-badge.svg\" alt=\"Open In Colab\"/></a>"
      ]
    },
    {
      "cell_type": "code",
      "metadata": {
        "id": "lU7MHMgk9irp",
        "colab_type": "code",
        "colab": {
          "base_uri": "https://localhost:8080/",
          "height": 655
        },
        "outputId": "d2ccad48-c7ea-47c3-99e2-e5c3d209bf5b"
      },
      "source": [
        "!mkdir /content/static\n",
        "!mkdir /content/templates\n",
        "\n",
        "!wget https://raw.githubusercontent.com/Nishidh25/Covid-19-Detection-from-Lung-X-rays/master/templates/image_predicted.html\n",
        "!cp image_predicted.html /content/templates\n",
        "!wget https://raw.githubusercontent.com/Nishidh25/Covid-19-Detection-from-Lung-X-rays/master/templates/main.html\n",
        "!cp main.html /content/templates\n",
        "\n",
        "!wget https://github.com/Nishidh25/Covid-19-Detection-from-Lung-X-rays/raw/master/model.h5"
      ],
      "execution_count": 1,
      "outputs": [
        {
          "output_type": "stream",
          "text": [
            "--2020-06-10 16:07:30--  https://raw.githubusercontent.com/Nishidh25/Covid-19-Detection-from-Lung-X-rays/master/templates/image_predicted.html\n",
            "Resolving raw.githubusercontent.com (raw.githubusercontent.com)... 151.101.0.133, 151.101.64.133, 151.101.128.133, ...\n",
            "Connecting to raw.githubusercontent.com (raw.githubusercontent.com)|151.101.0.133|:443... connected.\n",
            "HTTP request sent, awaiting response... 200 OK\n",
            "Length: 486 [text/plain]\n",
            "Saving to: ‘image_predicted.html’\n",
            "\n",
            "\rimage_predicted.htm   0%[                    ]       0  --.-KB/s               \rimage_predicted.htm 100%[===================>]     486  --.-KB/s    in 0s      \n",
            "\n",
            "2020-06-10 16:07:30 (22.8 MB/s) - ‘image_predicted.html’ saved [486/486]\n",
            "\n",
            "--2020-06-10 16:07:34--  https://raw.githubusercontent.com/Nishidh25/Covid-19-Detection-from-Lung-X-rays/master/templates/main.html\n",
            "Resolving raw.githubusercontent.com (raw.githubusercontent.com)... 151.101.0.133, 151.101.64.133, 151.101.128.133, ...\n",
            "Connecting to raw.githubusercontent.com (raw.githubusercontent.com)|151.101.0.133|:443... connected.\n",
            "HTTP request sent, awaiting response... 200 OK\n",
            "Length: 505 [text/plain]\n",
            "Saving to: ‘main.html’\n",
            "\n",
            "main.html           100%[===================>]     505  --.-KB/s    in 0s      \n",
            "\n",
            "2020-06-10 16:07:34 (25.6 MB/s) - ‘main.html’ saved [505/505]\n",
            "\n",
            "--2020-06-10 16:07:37--  https://github.com/Nishidh25/Covid-19-Detection-from-Lung-X-rays/raw/master/model.h5\n",
            "Resolving github.com (github.com)... 140.82.114.4\n",
            "Connecting to github.com (github.com)|140.82.114.4|:443... connected.\n",
            "HTTP request sent, awaiting response... 302 Found\n",
            "Location: https://media.githubusercontent.com/media/Nishidh25/Covid-19-Detection-from-Lung-X-rays/master/model.h5 [following]\n",
            "--2020-06-10 16:07:38--  https://media.githubusercontent.com/media/Nishidh25/Covid-19-Detection-from-Lung-X-rays/master/model.h5\n",
            "Resolving media.githubusercontent.com (media.githubusercontent.com)... 151.101.0.133, 151.101.64.133, 151.101.128.133, ...\n",
            "Connecting to media.githubusercontent.com (media.githubusercontent.com)|151.101.0.133|:443... connected.\n",
            "HTTP request sent, awaiting response... 200 OK\n",
            "Length: 181209440 (173M) [application/octet-stream]\n",
            "Saving to: ‘model.h5’\n",
            "\n",
            "model.h5            100%[===================>] 172.81M   156MB/s    in 1.1s    \n",
            "\n",
            "2020-06-10 16:07:42 (156 MB/s) - ‘model.h5’ saved [181209440/181209440]\n",
            "\n"
          ],
          "name": "stdout"
        }
      ]
    },
    {
      "cell_type": "code",
      "metadata": {
        "id": "a_VcQe3p8w-h",
        "colab_type": "code",
        "colab": {
          "base_uri": "https://localhost:8080/",
          "height": 289
        },
        "outputId": "676b6a5e-659e-4f7a-8bc5-c52e05ff29bb"
      },
      "source": [
        "!pip install flask_ngrok\n",
        "from flask_ngrok import run_with_ngrok\n",
        "from flask import Flask, request, render_template, flash, redirect, url_for\n",
        "from werkzeug.utils import secure_filename\n",
        "import tensorflow as tf\n",
        "import numpy as np\n",
        "import os"
      ],
      "execution_count": 2,
      "outputs": [
        {
          "output_type": "stream",
          "text": [
            "Collecting flask_ngrok\n",
            "  Downloading https://files.pythonhosted.org/packages/af/6c/f54cb686ad1129e27d125d182f90f52b32f284e6c8df58c1bae54fa1adbc/flask_ngrok-0.0.25-py3-none-any.whl\n",
            "Requirement already satisfied: requests in /usr/local/lib/python3.6/dist-packages (from flask_ngrok) (2.23.0)\n",
            "Requirement already satisfied: Flask>=0.8 in /usr/local/lib/python3.6/dist-packages (from flask_ngrok) (1.1.2)\n",
            "Requirement already satisfied: certifi>=2017.4.17 in /usr/local/lib/python3.6/dist-packages (from requests->flask_ngrok) (2020.4.5.1)\n",
            "Requirement already satisfied: idna<3,>=2.5 in /usr/local/lib/python3.6/dist-packages (from requests->flask_ngrok) (2.9)\n",
            "Requirement already satisfied: urllib3!=1.25.0,!=1.25.1,<1.26,>=1.21.1 in /usr/local/lib/python3.6/dist-packages (from requests->flask_ngrok) (1.24.3)\n",
            "Requirement already satisfied: chardet<4,>=3.0.2 in /usr/local/lib/python3.6/dist-packages (from requests->flask_ngrok) (3.0.4)\n",
            "Requirement already satisfied: itsdangerous>=0.24 in /usr/local/lib/python3.6/dist-packages (from Flask>=0.8->flask_ngrok) (1.1.0)\n",
            "Requirement already satisfied: Werkzeug>=0.15 in /usr/local/lib/python3.6/dist-packages (from Flask>=0.8->flask_ngrok) (1.0.1)\n",
            "Requirement already satisfied: click>=5.1 in /usr/local/lib/python3.6/dist-packages (from Flask>=0.8->flask_ngrok) (7.1.2)\n",
            "Requirement already satisfied: Jinja2>=2.10.1 in /usr/local/lib/python3.6/dist-packages (from Flask>=0.8->flask_ngrok) (2.11.2)\n",
            "Requirement already satisfied: MarkupSafe>=0.23 in /usr/local/lib/python3.6/dist-packages (from Jinja2>=2.10.1->Flask>=0.8->flask_ngrok) (1.1.1)\n",
            "Installing collected packages: flask-ngrok\n",
            "Successfully installed flask-ngrok-0.0.25\n"
          ],
          "name": "stdout"
        }
      ]
    },
    {
      "cell_type": "code",
      "metadata": {
        "id": "8fecvX4283mV",
        "colab_type": "code",
        "colab": {}
      },
      "source": [
        "def predict(file):  \n",
        "  img = tf.io.read_file(file)\n",
        "  img = tf.image.decode_jpeg(img, channels=3)\n",
        "  img.set_shape([None, None, 3])\n",
        "  img = tf.image.resize(img, (224, 224))\n",
        "  img = np.array(img) # convert to numpy array\n",
        "  img = np.expand_dims(img, 0) # make 'batch' of 1\n",
        "  img = img /255. # Rescaling\n",
        "  model =  tf.keras.models.load_model(\"model.h5\")\n",
        "  pred = model.predict(img,verbose=1)\n",
        "  print(pred)\n",
        "  if pred > 0.5 :\n",
        "    return \"Positive\"\n",
        "  else : return \"Negative\""
      ],
      "execution_count": 0,
      "outputs": []
    },
    {
      "cell_type": "code",
      "metadata": {
        "id": "NkDN4FIN85MI",
        "colab_type": "code",
        "colab": {
          "base_uri": "https://localhost:8080/",
          "height": 370
        },
        "outputId": "78915f0c-5b29-4b67-e2e6-8c013f303566"
      },
      "source": [
        "UPLOAD_FOLDER = '/content/static'\n",
        "ALLOWED_EXTENSIONS = {'jpg', 'jpeg'}\n",
        "app = Flask(__name__)\n",
        "app.config['UPLOAD_FOLDER'] = UPLOAD_FOLDER\n",
        "run_with_ngrok(app)\n",
        "\n",
        "def allowed_file(filename):\n",
        "    return '.' in filename and \\\n",
        "           filename.rsplit('.', 1)[1].lower() in ALLOWED_EXTENSIONS\n",
        "\n",
        "\n",
        "@app.route('/', methods=['GET', 'POST'])\n",
        "def upload_file():\n",
        "    if request.method == 'POST':\n",
        "        # check if the post request has the file part\n",
        "        if 'file' not in request.files:\n",
        "            return render_template('main.html')\n",
        "        file = request.files['file']\n",
        "        # if user does not select file, browser also\n",
        "        # submit an empty part without filename\n",
        "        if file.filename == '':\n",
        "            return render_template('main.html')\n",
        "        if file and allowed_file(file.filename):\n",
        "            filename = secure_filename(file.filename)\n",
        "            file.save(os.path.join(app.config['UPLOAD_FOLDER'], filename))\n",
        "            image_dir = os.path.join(app.config['UPLOAD_FOLDER'], filename)\n",
        "            pred = predict(image_dir)\n",
        "            print(pred)\n",
        "            return render_template(\"image_predicted.html\", user_image = file.filename, prediction = pred )\n",
        "    return render_template('main.html')\n",
        "if __name__ == '__main__':\n",
        "  app.run()"
      ],
      "execution_count": 4,
      "outputs": [
        {
          "output_type": "stream",
          "text": [
            " * Serving Flask app \"__main__\" (lazy loading)\n",
            " * Environment: production\n",
            "\u001b[31m   WARNING: This is a development server. Do not use it in a production deployment.\u001b[0m\n",
            "\u001b[2m   Use a production WSGI server instead.\u001b[0m\n",
            " * Debug mode: off\n"
          ],
          "name": "stdout"
        },
        {
          "output_type": "stream",
          "text": [
            " * Running on http://127.0.0.1:5000/ (Press CTRL+C to quit)\n"
          ],
          "name": "stderr"
        },
        {
          "output_type": "stream",
          "text": [
            " * Running on http://e7ba47c80eba.ngrok.io\n",
            " * Traffic stats available on http://127.0.0.1:4040\n"
          ],
          "name": "stdout"
        },
        {
          "output_type": "stream",
          "text": [
            "127.0.0.1 - - [10/Jun/2020 16:08:06] \"\u001b[37mGET / HTTP/1.1\u001b[0m\" 200 -\n",
            "127.0.0.1 - - [10/Jun/2020 16:08:07] \"\u001b[33mGET /favicon.ico HTTP/1.1\u001b[0m\" 404 -\n"
          ],
          "name": "stderr"
        },
        {
          "output_type": "stream",
          "text": [
            "1/1 [==============================] - 0s 2ms/step\n"
          ],
          "name": "stdout"
        },
        {
          "output_type": "stream",
          "text": [
            "127.0.0.1 - - [10/Jun/2020 16:08:16] \"\u001b[37mPOST / HTTP/1.1\u001b[0m\" 200 -\n"
          ],
          "name": "stderr"
        },
        {
          "output_type": "stream",
          "text": [
            "[[0.82952267]]\n",
            "Positive\n"
          ],
          "name": "stdout"
        },
        {
          "output_type": "stream",
          "text": [
            "127.0.0.1 - - [10/Jun/2020 16:08:16] \"\u001b[37mGET /static/345db0222228e0b5f49d346b38aa90_jumbo.jpeg HTTP/1.1\u001b[0m\" 200 -\n",
            "127.0.0.1 - - [10/Jun/2020 16:08:18] \"\u001b[37mGET / HTTP/1.1\u001b[0m\" 200 -\n"
          ],
          "name": "stderr"
        },
        {
          "output_type": "stream",
          "text": [
            "1/1 [==============================] - 0s 2ms/step\n"
          ],
          "name": "stdout"
        },
        {
          "output_type": "stream",
          "text": [
            "127.0.0.1 - - [10/Jun/2020 16:08:24] \"\u001b[37mPOST / HTTP/1.1\u001b[0m\" 200 -\n"
          ],
          "name": "stderr"
        },
        {
          "output_type": "stream",
          "text": [
            "[[3.0035064e-05]]\n",
            "Negative\n"
          ],
          "name": "stdout"
        },
        {
          "output_type": "stream",
          "text": [
            "127.0.0.1 - - [10/Jun/2020 16:08:25] \"\u001b[37mGET /static/IM-0001-0001.jpeg HTTP/1.1\u001b[0m\" 200 -\n"
          ],
          "name": "stderr"
        }
      ]
    }
  ]
}