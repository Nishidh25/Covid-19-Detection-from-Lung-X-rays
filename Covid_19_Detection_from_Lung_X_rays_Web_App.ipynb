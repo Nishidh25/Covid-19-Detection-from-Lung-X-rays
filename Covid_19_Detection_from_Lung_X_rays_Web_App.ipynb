{
  "nbformat": 4,
  "nbformat_minor": 0,
  "metadata": {
    "colab": {
      "name": "Covid-19 Detection from Lung X-rays Web App.ipynb",
      "provenance": [],
      "collapsed_sections": [],
      "toc_visible": true,
      "authorship_tag": "ABX9TyPub9peAP+1pLkCxBtdAk7Y",
      "include_colab_link": true
    },
    "kernelspec": {
      "name": "python3",
      "display_name": "Python 3"
    }
  },
  "cells": [
    {
      "cell_type": "markdown",
      "metadata": {
        "id": "view-in-github",
        "colab_type": "text"
      },
      "source": [
        "<a href=\"https://colab.research.google.com/github/Nishidh25/Covid-19-Detection-from-Lung-X-rays/blob/master/Covid_19_Detection_from_Lung_X_rays_Web_App.ipynb\" target=\"_parent\"><img src=\"https://colab.research.google.com/assets/colab-badge.svg\" alt=\"Open In Colab\"/></a>"
      ]
    },
    {
      "cell_type": "markdown",
      "metadata": {
        "id": "qQJEvfK6iVR4",
        "colab_type": "text"
      },
      "source": [
        "Front end website for [Covid-19-Detection-from-Lung-X-rays ](https://github.com/Nishidh25/Covid-19-Detection-from-Lung-X-rays) \n",
        "\n",
        "Takes an image and classifies it as Covid-19+Pneumonia\n",
        "\n",
        "[Notebook - 1](https://github.com/Nishidh25/Covid-19-Detection-from-Lung-X-rays/blob/master/Covid_19_Detection_from_Lung_X_rays.ipynb)\n",
        "\n",
        "[Notebook - 2](https://github.com/Nishidh25/Covid-19-Detection-from-Lung-X-rays/blob/master/Covid_19_Detection_from_Lung_X_rays_Web_App.ipynb) (Current)"
      ]
    },
    {
      "cell_type": "markdown",
      "metadata": {
        "id": "jqhd6IPmeu3r",
        "colab_type": "text"
      },
      "source": [
        "# Downloading model and required html files from github"
      ]
    },
    {
      "cell_type": "code",
      "metadata": {
        "id": "lU7MHMgk9irp",
        "colab_type": "code",
        "outputId": "bd47e359-3665-4acd-cc7d-9f0bb1eeded3",
        "colab": {
          "base_uri": "https://localhost:8080/",
          "height": 1000
        }
      },
      "source": [
        "# Creating directories for flask\n",
        "!mkdir /content/static \n",
        "!mkdir /content/templates\n",
        "\n",
        "# Downloading resources from github \n",
        "!wget https://github.com/Nishidh25/Covid-19-Detection-from-Lung-X-rays/raw/master/static/covid_positive.jpeg\n",
        "!wget https://github.com/Nishidh25/Covid-19-Detection-from-Lung-X-rays/raw/master/static/normal.jpeg\n",
        "!wget https://raw.githubusercontent.com/Nishidh25/Covid-19-Detection-from-Lung-X-rays/master/templates/image_predicted.html\n",
        "!wget https://raw.githubusercontent.com/Nishidh25/Covid-19-Detection-from-Lung-X-rays/master/templates/main.html\n",
        "!wget --load-cookies /tmp/cookies.txt \"https://docs.google.com/uc?export=download&confirm=$(wget --quiet --save-cookies /tmp/cookies.txt --keep-session-cookies --no-check-certificate 'https://docs.google.com/uc?export=download&id=15x1YiEToDdA-WWOvuZFcOSHfNPUu0W-p' -O- | sed -rn 's/.*confirm=([0-9A-Za-z_]+).*/\\1\\n/p')&id=15x1YiEToDdA-WWOvuZFcOSHfNPUu0W-p\" -O model.h5 && rm -rf /tmp/cookies.txt\n",
        "\n",
        "#!wget https://github.com/Nishidh25/Covid-19-Detection-from-Lung-X-rays/raw/master/model.h5 # Trained Model\n",
        "#########################################################################################################\n",
        "# Model uploaded on Github lfs wont download once bandwidth is over you will get an error while running #\n",
        "# Download and upload model manually                                                                    # \n",
        "#########################################################################################################\n",
        "\n",
        "# Copy the files to the respective directories\n",
        "!cp covid_positive.jpeg /content/static\n",
        "!cp normal.jpeg /content/static\n",
        "!cp main.html /content/templates\n",
        "!cp image_predicted.html /content/templates"
      ],
      "execution_count": 1,
      "outputs": [
        {
          "output_type": "stream",
          "text": [
            "--2020-06-11 16:49:57--  https://github.com/Nishidh25/Covid-19-Detection-from-Lung-X-rays/raw/master/static/covid_positive.jpeg\n",
            "Resolving github.com (github.com)... 140.82.114.3\n",
            "Connecting to github.com (github.com)|140.82.114.3|:443... connected.\n",
            "HTTP request sent, awaiting response... 302 Found\n",
            "Location: https://raw.githubusercontent.com/Nishidh25/Covid-19-Detection-from-Lung-X-rays/master/static/covid_positive.jpeg [following]\n",
            "--2020-06-11 16:49:57--  https://raw.githubusercontent.com/Nishidh25/Covid-19-Detection-from-Lung-X-rays/master/static/covid_positive.jpeg\n",
            "Resolving raw.githubusercontent.com (raw.githubusercontent.com)... 151.101.0.133, 151.101.64.133, 151.101.128.133, ...\n",
            "Connecting to raw.githubusercontent.com (raw.githubusercontent.com)|151.101.0.133|:443... connected.\n",
            "HTTP request sent, awaiting response... 200 OK\n",
            "Length: 114594 (112K) [image/jpeg]\n",
            "Saving to: ‘covid_positive.jpeg’\n",
            "\n",
            "covid_positive.jpeg 100%[===================>] 111.91K  --.-KB/s    in 0.04s   \n",
            "\n",
            "2020-06-11 16:49:58 (2.81 MB/s) - ‘covid_positive.jpeg’ saved [114594/114594]\n",
            "\n",
            "--2020-06-11 16:49:59--  https://github.com/Nishidh25/Covid-19-Detection-from-Lung-X-rays/raw/master/static/normal.jpeg\n",
            "Resolving github.com (github.com)... 140.82.114.3\n",
            "Connecting to github.com (github.com)|140.82.114.3|:443... connected.\n",
            "HTTP request sent, awaiting response... 302 Found\n",
            "Location: https://raw.githubusercontent.com/Nishidh25/Covid-19-Detection-from-Lung-X-rays/master/static/normal.jpeg [following]\n",
            "--2020-06-11 16:50:00--  https://raw.githubusercontent.com/Nishidh25/Covid-19-Detection-from-Lung-X-rays/master/static/normal.jpeg\n",
            "Resolving raw.githubusercontent.com (raw.githubusercontent.com)... 151.101.0.133, 151.101.64.133, 151.101.128.133, ...\n",
            "Connecting to raw.githubusercontent.com (raw.githubusercontent.com)|151.101.0.133|:443... connected.\n",
            "HTTP request sent, awaiting response... 200 OK\n",
            "Length: 252680 (247K) [image/jpeg]\n",
            "Saving to: ‘normal.jpeg’\n",
            "\n",
            "normal.jpeg         100%[===================>] 246.76K  --.-KB/s    in 0.05s   \n",
            "\n",
            "2020-06-11 16:50:01 (4.54 MB/s) - ‘normal.jpeg’ saved [252680/252680]\n",
            "\n",
            "--2020-06-11 16:50:03--  https://raw.githubusercontent.com/Nishidh25/Covid-19-Detection-from-Lung-X-rays/master/templates/image_predicted.html\n",
            "Resolving raw.githubusercontent.com (raw.githubusercontent.com)... 151.101.0.133, 151.101.64.133, 151.101.128.133, ...\n",
            "Connecting to raw.githubusercontent.com (raw.githubusercontent.com)|151.101.0.133|:443... connected.\n",
            "HTTP request sent, awaiting response... 200 OK\n",
            "Length: 736 [text/plain]\n",
            "Saving to: ‘image_predicted.html’\n",
            "\n",
            "image_predicted.htm 100%[===================>]     736  --.-KB/s    in 0s      \n",
            "\n",
            "2020-06-11 16:50:03 (3.49 MB/s) - ‘image_predicted.html’ saved [736/736]\n",
            "\n",
            "--2020-06-11 16:50:05--  https://raw.githubusercontent.com/Nishidh25/Covid-19-Detection-from-Lung-X-rays/master/templates/main.html\n",
            "Resolving raw.githubusercontent.com (raw.githubusercontent.com)... 151.101.0.133, 151.101.64.133, 151.101.128.133, ...\n",
            "Connecting to raw.githubusercontent.com (raw.githubusercontent.com)|151.101.0.133|:443... connected.\n",
            "HTTP request sent, awaiting response... 200 OK\n",
            "Length: 2986 (2.9K) [text/plain]\n",
            "Saving to: ‘main.html’\n",
            "\n",
            "main.html           100%[===================>]   2.92K  --.-KB/s    in 0s      \n",
            "\n",
            "2020-06-11 16:50:05 (24.7 MB/s) - ‘main.html’ saved [2986/2986]\n",
            "\n",
            "--2020-06-11 16:50:08--  https://docs.google.com/uc?export=download&confirm=o_kR&id=15x1YiEToDdA-WWOvuZFcOSHfNPUu0W-p\n",
            "Resolving docs.google.com (docs.google.com)... 108.177.125.102, 108.177.125.101, 108.177.125.113, ...\n",
            "Connecting to docs.google.com (docs.google.com)|108.177.125.102|:443... connected.\n",
            "HTTP request sent, awaiting response... 302 Moved Temporarily\n",
            "Location: https://doc-0s-9g-docs.googleusercontent.com/docs/securesc/8u2vig1qjit6lbimsf35adef18qhlkdm/n0qh0o3dppanqbm5isl6lt0tdrhahunv/1591894200000/02401378094148570500/16904746263177920114Z/15x1YiEToDdA-WWOvuZFcOSHfNPUu0W-p?e=download [following]\n",
            "--2020-06-11 16:50:08--  https://doc-0s-9g-docs.googleusercontent.com/docs/securesc/8u2vig1qjit6lbimsf35adef18qhlkdm/n0qh0o3dppanqbm5isl6lt0tdrhahunv/1591894200000/02401378094148570500/16904746263177920114Z/15x1YiEToDdA-WWOvuZFcOSHfNPUu0W-p?e=download\n",
            "Resolving doc-0s-9g-docs.googleusercontent.com (doc-0s-9g-docs.googleusercontent.com)... 108.177.125.132, 2404:6800:4008:c01::84\n",
            "Connecting to doc-0s-9g-docs.googleusercontent.com (doc-0s-9g-docs.googleusercontent.com)|108.177.125.132|:443... connected.\n",
            "HTTP request sent, awaiting response... 302 Found\n",
            "Location: https://docs.google.com/nonceSigner?nonce=h4pibflr1dvgs&continue=https://doc-0s-9g-docs.googleusercontent.com/docs/securesc/8u2vig1qjit6lbimsf35adef18qhlkdm/n0qh0o3dppanqbm5isl6lt0tdrhahunv/1591894200000/02401378094148570500/16904746263177920114Z/15x1YiEToDdA-WWOvuZFcOSHfNPUu0W-p?e%3Ddownload&hash=tpcd29c36b14kcpfbm5q9ce8a3rv8ok0 [following]\n",
            "--2020-06-11 16:50:08--  https://docs.google.com/nonceSigner?nonce=h4pibflr1dvgs&continue=https://doc-0s-9g-docs.googleusercontent.com/docs/securesc/8u2vig1qjit6lbimsf35adef18qhlkdm/n0qh0o3dppanqbm5isl6lt0tdrhahunv/1591894200000/02401378094148570500/16904746263177920114Z/15x1YiEToDdA-WWOvuZFcOSHfNPUu0W-p?e%3Ddownload&hash=tpcd29c36b14kcpfbm5q9ce8a3rv8ok0\n",
            "Connecting to docs.google.com (docs.google.com)|108.177.125.102|:443... connected.\n",
            "HTTP request sent, awaiting response... 302 Found\n",
            "Location: https://doc-0s-9g-docs.googleusercontent.com/docs/securesc/8u2vig1qjit6lbimsf35adef18qhlkdm/n0qh0o3dppanqbm5isl6lt0tdrhahunv/1591894200000/02401378094148570500/16904746263177920114Z/15x1YiEToDdA-WWOvuZFcOSHfNPUu0W-p?e=download&nonce=h4pibflr1dvgs&user=16904746263177920114Z&hash=g8jg61j6iqj1bjbmi552n8durlctbgik [following]\n",
            "--2020-06-11 16:50:08--  https://doc-0s-9g-docs.googleusercontent.com/docs/securesc/8u2vig1qjit6lbimsf35adef18qhlkdm/n0qh0o3dppanqbm5isl6lt0tdrhahunv/1591894200000/02401378094148570500/16904746263177920114Z/15x1YiEToDdA-WWOvuZFcOSHfNPUu0W-p?e=download&nonce=h4pibflr1dvgs&user=16904746263177920114Z&hash=g8jg61j6iqj1bjbmi552n8durlctbgik\n",
            "Connecting to doc-0s-9g-docs.googleusercontent.com (doc-0s-9g-docs.googleusercontent.com)|108.177.125.132|:443... connected.\n",
            "HTTP request sent, awaiting response... 200 OK\n",
            "Length: unspecified [application/octet-stream]\n",
            "Saving to: ‘model.h5’\n",
            "\n",
            "model.h5                [      <=>           ] 172.81M   142MB/s    in 1.2s    \n",
            "\n",
            "2020-06-11 16:50:10 (142 MB/s) - ‘model.h5’ saved [181209440]\n",
            "\n"
          ],
          "name": "stdout"
        }
      ]
    },
    {
      "cell_type": "markdown",
      "metadata": {
        "id": "HD5mqH6qe8gC",
        "colab_type": "text"
      },
      "source": [
        "# Imports"
      ]
    },
    {
      "cell_type": "code",
      "metadata": {
        "id": "a_VcQe3p8w-h",
        "colab_type": "code",
        "outputId": "73217345-d247-448c-c7cf-e6b607dfcfb0",
        "colab": {
          "base_uri": "https://localhost:8080/",
          "height": 289
        }
      },
      "source": [
        "!pip install flask_ngrok\n",
        "import os\n",
        "import numpy as np\n",
        "import tensorflow as tf\n",
        "from flask_ngrok import run_with_ngrok\n",
        "from werkzeug.utils import secure_filename\n",
        "from flask import Flask, request, render_template, flash, redirect, url_for"
      ],
      "execution_count": 2,
      "outputs": [
        {
          "output_type": "stream",
          "text": [
            "Collecting flask_ngrok\n",
            "  Downloading https://files.pythonhosted.org/packages/af/6c/f54cb686ad1129e27d125d182f90f52b32f284e6c8df58c1bae54fa1adbc/flask_ngrok-0.0.25-py3-none-any.whl\n",
            "Requirement already satisfied: Flask>=0.8 in /usr/local/lib/python3.6/dist-packages (from flask_ngrok) (1.1.2)\n",
            "Requirement already satisfied: requests in /usr/local/lib/python3.6/dist-packages (from flask_ngrok) (2.23.0)\n",
            "Requirement already satisfied: Jinja2>=2.10.1 in /usr/local/lib/python3.6/dist-packages (from Flask>=0.8->flask_ngrok) (2.11.2)\n",
            "Requirement already satisfied: click>=5.1 in /usr/local/lib/python3.6/dist-packages (from Flask>=0.8->flask_ngrok) (7.1.2)\n",
            "Requirement already satisfied: Werkzeug>=0.15 in /usr/local/lib/python3.6/dist-packages (from Flask>=0.8->flask_ngrok) (1.0.1)\n",
            "Requirement already satisfied: itsdangerous>=0.24 in /usr/local/lib/python3.6/dist-packages (from Flask>=0.8->flask_ngrok) (1.1.0)\n",
            "Requirement already satisfied: idna<3,>=2.5 in /usr/local/lib/python3.6/dist-packages (from requests->flask_ngrok) (2.9)\n",
            "Requirement already satisfied: certifi>=2017.4.17 in /usr/local/lib/python3.6/dist-packages (from requests->flask_ngrok) (2020.4.5.1)\n",
            "Requirement already satisfied: urllib3!=1.25.0,!=1.25.1,<1.26,>=1.21.1 in /usr/local/lib/python3.6/dist-packages (from requests->flask_ngrok) (1.24.3)\n",
            "Requirement already satisfied: chardet<4,>=3.0.2 in /usr/local/lib/python3.6/dist-packages (from requests->flask_ngrok) (3.0.4)\n",
            "Requirement already satisfied: MarkupSafe>=0.23 in /usr/local/lib/python3.6/dist-packages (from Jinja2>=2.10.1->Flask>=0.8->flask_ngrok) (1.1.1)\n",
            "Installing collected packages: flask-ngrok\n",
            "Successfully installed flask-ngrok-0.0.25\n"
          ],
          "name": "stdout"
        }
      ]
    },
    {
      "cell_type": "markdown",
      "metadata": {
        "id": "jqhmN5WRe-ow",
        "colab_type": "text"
      },
      "source": [
        "# Prediction function\n",
        "\n"
      ]
    },
    {
      "cell_type": "code",
      "metadata": {
        "id": "8fecvX4283mV",
        "colab_type": "code",
        "colab": {}
      },
      "source": [
        "def predict(file):  \n",
        "  \"\"\"\n",
        "  Takes file directory as input , loads and pre processes the image and inputs \n",
        "  it to the model \n",
        "\n",
        "  Input : file(str)\n",
        "  Output : class(string) , pred(float)\n",
        "  \"\"\"\n",
        "  img = tf.io.read_file(file) # Read file from directory\n",
        "  img = tf.image.decode_jpeg(img, channels=3) # Decode it, RGB 3 channels\n",
        "  img.set_shape([None, None, 3]) # Clearing the shape of image\n",
        "  img = tf.image.resize(img, (224, 224)) # reshaping the image to 224, 224\n",
        "  img = np.array(img) # convert to numpy array\n",
        "  img = np.expand_dims(img, 0) # make 'batch' of 1 , input type of model now [1,224,224,3]\n",
        "  img = img /255. # Rescaling \n",
        "  model =  tf.keras.models.load_model(\"model.h5\") # load model \n",
        "  pred = model.predict(img,verbose=1) # Predict image\n",
        "  if pred > 0.5 :\n",
        "    return \"Classified as Covid-19 Positive\",pred\n",
        "  else : return \"Classified as Covid-19 Negative\",pred"
      ],
      "execution_count": 0,
      "outputs": []
    },
    {
      "cell_type": "markdown",
      "metadata": {
        "id": "6aOhU0_ehaJM",
        "colab_type": "text"
      },
      "source": [
        "# Flask api\n",
        "Run the below code and select the second link (*.ngrok.io) to view the site.\n",
        "\n",
        "**If you get any error while running , please check the downloaded files**"
      ]
    },
    {
      "cell_type": "code",
      "metadata": {
        "id": "NkDN4FIN85MI",
        "colab_type": "code",
        "outputId": "b394eb6d-05ff-4881-ee97-49f7d2811f65",
        "colab": {
          "base_uri": "https://localhost:8080/",
          "height": 185
        }
      },
      "source": [
        "UPLOAD_FOLDER = '/content/static' # Upload folder\n",
        "ALLOWED_EXTENSIONS = {'jpg', 'jpeg'} # File type accepted\n",
        "\n",
        "app = Flask(__name__) \n",
        "app.config['UPLOAD_FOLDER'] = UPLOAD_FOLDER\n",
        "run_with_ngrok(app)\n",
        "\n",
        "def allowed_file(filename): \n",
        "  \"\"\"\n",
        "  Check if the file is a jpg or jpeg and returns it \n",
        "  \"\"\"\n",
        "  return '.' in filename and \\\n",
        "           filename.rsplit('.', 1)[1].lower() in ALLOWED_EXTENSIONS\n",
        "\n",
        "\n",
        "@app.route('/', methods=['GET', 'POST'])\n",
        "def upload_file():\n",
        "    if request.method == 'POST':\n",
        "        # check if the post request has the file part\n",
        "        if 'file' not in request.files:\n",
        "            return render_template('main.html')\n",
        "        file = request.files['file']\n",
        "        # if user does not select file, browser also\n",
        "        # submit an empty part without filename\n",
        "        if file.filename == '':\n",
        "            return render_template('main.html')\n",
        "        if file and allowed_file(file.filename):\n",
        "            filename = secure_filename(file.filename)\n",
        "            file.save(os.path.join(app.config['UPLOAD_FOLDER'], filename))\n",
        "            image_dir = os.path.join(app.config['UPLOAD_FOLDER'], filename)\n",
        "            pred,acc = predict(image_dir)\n",
        "            acc = \"{:.2f}\".format(acc[0][0] * 100)\n",
        "            return render_template(\"image_predicted.html\", user_image = file.filename, prediction = pred , percent_accuracy = acc)\n",
        "    return render_template('main.html')\n",
        "if __name__ == '__main__':\n",
        "  app.run()"
      ],
      "execution_count": 4,
      "outputs": [
        {
          "output_type": "stream",
          "text": [
            " * Serving Flask app \"__main__\" (lazy loading)\n",
            " * Environment: production\n",
            "\u001b[31m   WARNING: This is a development server. Do not use it in a production deployment.\u001b[0m\n",
            "\u001b[2m   Use a production WSGI server instead.\u001b[0m\n",
            " * Debug mode: off\n"
          ],
          "name": "stdout"
        },
        {
          "output_type": "stream",
          "text": [
            " * Running on http://127.0.0.1:5000/ (Press CTRL+C to quit)\n"
          ],
          "name": "stderr"
        },
        {
          "output_type": "stream",
          "text": [
            " * Running on http://ce1bd6a35aa6.ngrok.io\n",
            " * Traffic stats available on http://127.0.0.1:4040\n"
          ],
          "name": "stdout"
        },
        {
          "output_type": "stream",
          "text": [
            "127.0.0.1 - - [11/Jun/2020 16:50:55] \"\u001b[37mGET / HTTP/1.1\u001b[0m\" 200 -\n",
            "127.0.0.1 - - [11/Jun/2020 16:50:56] \"\u001b[33mGET /favicon.ico HTTP/1.1\u001b[0m\" 404 -\n"
          ],
          "name": "stderr"
        }
      ]
    },
    {
      "cell_type": "markdown",
      "metadata": {
        "id": "MB55TIy1kfYV",
        "colab_type": "text"
      },
      "source": [
        "[Notebook - 1](https://github.com/Nishidh25/Covid-19-Detection-from-Lung-X-rays/blob/master/Covid_19_Detection_from_Lung_X_rays.ipynb)\n",
        "\n",
        "[Notebook - 2](https://github.com/Nishidh25/Covid-19-Detection-from-Lung-X-rays/blob/master/Covid_19_Detection_from_Lung_X_rays_Web_App.ipynb) (Current)\n",
        "\n",
        "[Github Project](https://github.com/Nishidh25/Covid-19-Detection-from-Lung-X-rays)"
      ]
    }
  ]
}