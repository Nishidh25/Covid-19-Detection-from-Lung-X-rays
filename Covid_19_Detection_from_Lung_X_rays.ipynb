{
  "nbformat": 4,
  "nbformat_minor": 0,
  "metadata": {
    "colab": {
      "name": "Covid-19 Detection from Lung X-rays.ipynb",
      "provenance": [],
      "collapsed_sections": [],
      "toc_visible": true,
      "authorship_tag": "ABX9TyO7UKaJayPHUY5fKHbQKN5Q",
      "include_colab_link": true
    },
    "kernelspec": {
      "name": "python3",
      "display_name": "Python 3"
    },
    "accelerator": "GPU"
  },
  "cells": [
    {
      "cell_type": "markdown",
      "metadata": {
        "id": "view-in-github",
        "colab_type": "text"
      },
      "source": [
        "<a href=\"https://colab.research.google.com/github/Nishidh25/Covid-19-Detection-from-Lung-X-rays/blob/master/Covid_19_Detection_from_Lung_X_rays.ipynb\" target=\"_parent\"><img src=\"https://colab.research.google.com/assets/colab-badge.svg\" alt=\"Open In Colab\"/></a>"
      ]
    },
    {
      "cell_type": "markdown",
      "metadata": {
        "id": "acnD5v-qAFZy",
        "colab_type": "text"
      },
      "source": [
        "# Downloading data from kaggle - CoronaHack -Chest X-Ray-Dataset\n",
        "Please follow the steps below to download and use kaggle data within Google Colab:\n",
        "\n",
        "1. Go to your kaggle account, Scroll to API section and Click Expire API Token to remove previous tokens\n",
        "\n",
        "2. Click on Create New API Token - It will download kaggle.json file on your machine.\n",
        "\n",
        "3. Upload the kaggle.json to the runtime using the upload button , then run the below script"
      ]
    },
    {
      "cell_type": "code",
      "metadata": {
        "id": "yspEIMEN3hIA",
        "colab_type": "code",
        "outputId": "a0467466-05e3-4c4a-aae6-e54c93d26bd7",
        "colab": {
          "base_uri": "https://localhost:8080/",
          "height": 84
        }
      },
      "source": [
        "!pip install -q kaggle\n",
        "!mkdir ~/.kaggle\n",
        "!cp kaggle.json ~/.kaggle/\n",
        "!kaggle datasets download -d praveengovi/coronahack-chest-xraydataset"
      ],
      "execution_count": 0,
      "outputs": [
        {
          "output_type": "stream",
          "text": [
            "Warning: Your Kaggle API key is readable by other users on this system! To fix this, you can run 'chmod 600 /root/.kaggle/kaggle.json'\n",
            "Downloading coronahack-chest-xraydataset.zip to /content\n",
            "100% 1.18G/1.19G [00:14<00:00, 123MB/s]\n",
            "100% 1.19G/1.19G [00:14<00:00, 86.4MB/s]\n"
          ],
          "name": "stdout"
        }
      ]
    },
    {
      "cell_type": "code",
      "metadata": {
        "id": "zGltE82U4KL6",
        "colab_type": "code",
        "colab": {}
      },
      "source": [
        "!unzip coronahack-chest-xraydataset.zip"
      ],
      "execution_count": 0,
      "outputs": []
    },
    {
      "cell_type": "markdown",
      "metadata": {
        "id": "V3dvZy4nAwr-",
        "colab_type": "text"
      },
      "source": [
        "# Imports"
      ]
    },
    {
      "cell_type": "code",
      "metadata": {
        "id": "pRNaPpGL4XmE",
        "colab_type": "code",
        "outputId": "2188c99c-c46b-47bd-9f2d-60ba3cebad6d",
        "colab": {
          "base_uri": "https://localhost:8080/",
          "height": 70
        }
      },
      "source": [
        "import os\n",
        "import numpy as np \n",
        "import pandas as pd \n",
        "import tensorflow as tf\n",
        "import matplotlib.pyplot as plt\n",
        "import matplotlib.image as mpimg\n",
        "%matplotlib inline\n",
        "from tensorflow import keras\n",
        "from tensorflow.keras.models import Sequential\n",
        "from tensorflow.keras.preprocessing.image import ImageDataGenerator\n",
        "from tensorflow.keras.layers import  Input, Conv2D, MaxPooling2D,GlobalMaxPooling2D, Flatten, Dense, GlobalAveragePooling2D, Activation, MaxPool2D, AvgPool2D, Dropout, BatchNormalization\n",
        "from tensorflow.keras.optimizers import Adam, SGD, RMSprop\n",
        "from sklearn.model_selection import train_test_split\n",
        "from sklearn.utils import shuffle\n",
        "import seaborn as sns\n",
        "sns.set()"
      ],
      "execution_count": 0,
      "outputs": [
        {
          "output_type": "stream",
          "text": [
            "/usr/local/lib/python3.6/dist-packages/statsmodels/tools/_testing.py:19: FutureWarning: pandas.util.testing is deprecated. Use the functions in the public API at pandas.testing instead.\n",
            "  import pandas.util.testing as tm\n"
          ],
          "name": "stderr"
        }
      ]
    },
    {
      "cell_type": "markdown",
      "metadata": {
        "id": "gcPe1aG0dN6u",
        "colab_type": "text"
      },
      "source": [
        "# Data\n",
        "We use CoronaHack -Chest X-Ray-Dataset Contains collection Chest X Ray of Healthy vs Pneumonia (Corona) affected patients infected patients along with few other categories such as SARS (Severe Acute Respiratory Syndrome ) ,Streptococcus & ARDS (Acute Respiratory Distress Syndrome)\n",
        "\n",
        "The Dataset contains 58 Covid-19 positive X-rays"
      ]
    },
    {
      "cell_type": "markdown",
      "metadata": {
        "id": "xnYgspz-A0kU",
        "colab_type": "text"
      },
      "source": [
        "## Reading data to dataframe\n"
      ]
    },
    {
      "cell_type": "code",
      "metadata": {
        "id": "qJZPJuiq5ExZ",
        "colab_type": "code",
        "colab": {}
      },
      "source": [
        "df = pd.read_csv('Chest_xray_Corona_Metadata.csv') # CSV containing image name and category\n",
        "df_summary = pd.read_csv('Chest_xray_Corona_dataset_Summary.csv') # CSV containing info about dataset"
      ],
      "execution_count": 0,
      "outputs": []
    },
    {
      "cell_type": "code",
      "metadata": {
        "id": "sOsCzGFN5aua",
        "colab_type": "code",
        "outputId": "070a4348-9d5e-4128-8609-9b3fab0d0c66",
        "colab": {
          "base_uri": "https://localhost:8080/",
          "height": 195
        }
      },
      "source": [
        "df.head()"
      ],
      "execution_count": 0,
      "outputs": [
        {
          "output_type": "execute_result",
          "data": {
            "text/html": [
              "<div>\n",
              "<style scoped>\n",
              "    .dataframe tbody tr th:only-of-type {\n",
              "        vertical-align: middle;\n",
              "    }\n",
              "\n",
              "    .dataframe tbody tr th {\n",
              "        vertical-align: top;\n",
              "    }\n",
              "\n",
              "    .dataframe thead th {\n",
              "        text-align: right;\n",
              "    }\n",
              "</style>\n",
              "<table border=\"1\" class=\"dataframe\">\n",
              "  <thead>\n",
              "    <tr style=\"text-align: right;\">\n",
              "      <th></th>\n",
              "      <th>Unnamed: 0</th>\n",
              "      <th>X_ray_image_name</th>\n",
              "      <th>Label</th>\n",
              "      <th>Dataset_type</th>\n",
              "      <th>Label_2_Virus_category</th>\n",
              "      <th>Label_1_Virus_category</th>\n",
              "    </tr>\n",
              "  </thead>\n",
              "  <tbody>\n",
              "    <tr>\n",
              "      <th>0</th>\n",
              "      <td>0</td>\n",
              "      <td>IM-0128-0001.jpeg</td>\n",
              "      <td>Normal</td>\n",
              "      <td>TRAIN</td>\n",
              "      <td>NaN</td>\n",
              "      <td>NaN</td>\n",
              "    </tr>\n",
              "    <tr>\n",
              "      <th>1</th>\n",
              "      <td>1</td>\n",
              "      <td>IM-0127-0001.jpeg</td>\n",
              "      <td>Normal</td>\n",
              "      <td>TRAIN</td>\n",
              "      <td>NaN</td>\n",
              "      <td>NaN</td>\n",
              "    </tr>\n",
              "    <tr>\n",
              "      <th>2</th>\n",
              "      <td>2</td>\n",
              "      <td>IM-0125-0001.jpeg</td>\n",
              "      <td>Normal</td>\n",
              "      <td>TRAIN</td>\n",
              "      <td>NaN</td>\n",
              "      <td>NaN</td>\n",
              "    </tr>\n",
              "    <tr>\n",
              "      <th>3</th>\n",
              "      <td>3</td>\n",
              "      <td>IM-0122-0001.jpeg</td>\n",
              "      <td>Normal</td>\n",
              "      <td>TRAIN</td>\n",
              "      <td>NaN</td>\n",
              "      <td>NaN</td>\n",
              "    </tr>\n",
              "    <tr>\n",
              "      <th>4</th>\n",
              "      <td>4</td>\n",
              "      <td>IM-0119-0001.jpeg</td>\n",
              "      <td>Normal</td>\n",
              "      <td>TRAIN</td>\n",
              "      <td>NaN</td>\n",
              "      <td>NaN</td>\n",
              "    </tr>\n",
              "  </tbody>\n",
              "</table>\n",
              "</div>"
            ],
            "text/plain": [
              "   Unnamed: 0   X_ray_image_name  ... Label_2_Virus_category Label_1_Virus_category\n",
              "0           0  IM-0128-0001.jpeg  ...                    NaN                    NaN\n",
              "1           1  IM-0127-0001.jpeg  ...                    NaN                    NaN\n",
              "2           2  IM-0125-0001.jpeg  ...                    NaN                    NaN\n",
              "3           3  IM-0122-0001.jpeg  ...                    NaN                    NaN\n",
              "4           4  IM-0119-0001.jpeg  ...                    NaN                    NaN\n",
              "\n",
              "[5 rows x 6 columns]"
            ]
          },
          "metadata": {
            "tags": []
          },
          "execution_count": 5
        }
      ]
    },
    {
      "cell_type": "code",
      "metadata": {
        "id": "D54qDZxk5d6I",
        "colab_type": "code",
        "outputId": "a4a2d3d8-3a24-4b57-c878-56aa96ee47e6",
        "colab": {
          "base_uri": "https://localhost:8080/",
          "height": 195
        }
      },
      "source": [
        "df_summary.head()"
      ],
      "execution_count": 0,
      "outputs": [
        {
          "output_type": "execute_result",
          "data": {
            "text/html": [
              "<div>\n",
              "<style scoped>\n",
              "    .dataframe tbody tr th:only-of-type {\n",
              "        vertical-align: middle;\n",
              "    }\n",
              "\n",
              "    .dataframe tbody tr th {\n",
              "        vertical-align: top;\n",
              "    }\n",
              "\n",
              "    .dataframe thead th {\n",
              "        text-align: right;\n",
              "    }\n",
              "</style>\n",
              "<table border=\"1\" class=\"dataframe\">\n",
              "  <thead>\n",
              "    <tr style=\"text-align: right;\">\n",
              "      <th></th>\n",
              "      <th>Unnamed: 0</th>\n",
              "      <th>Label</th>\n",
              "      <th>Label_1_Virus_category</th>\n",
              "      <th>Label_2_Virus_category</th>\n",
              "      <th>Image_Count</th>\n",
              "    </tr>\n",
              "  </thead>\n",
              "  <tbody>\n",
              "    <tr>\n",
              "      <th>0</th>\n",
              "      <td>0</td>\n",
              "      <td>Normal</td>\n",
              "      <td>NaN</td>\n",
              "      <td>NaN</td>\n",
              "      <td>1576</td>\n",
              "    </tr>\n",
              "    <tr>\n",
              "      <th>1</th>\n",
              "      <td>1</td>\n",
              "      <td>Pnemonia</td>\n",
              "      <td>Stress-Smoking</td>\n",
              "      <td>ARDS</td>\n",
              "      <td>2</td>\n",
              "    </tr>\n",
              "    <tr>\n",
              "      <th>2</th>\n",
              "      <td>2</td>\n",
              "      <td>Pnemonia</td>\n",
              "      <td>Virus</td>\n",
              "      <td>NaN</td>\n",
              "      <td>1493</td>\n",
              "    </tr>\n",
              "    <tr>\n",
              "      <th>3</th>\n",
              "      <td>3</td>\n",
              "      <td>Pnemonia</td>\n",
              "      <td>Virus</td>\n",
              "      <td>COVID-19</td>\n",
              "      <td>58</td>\n",
              "    </tr>\n",
              "    <tr>\n",
              "      <th>4</th>\n",
              "      <td>4</td>\n",
              "      <td>Pnemonia</td>\n",
              "      <td>Virus</td>\n",
              "      <td>SARS</td>\n",
              "      <td>4</td>\n",
              "    </tr>\n",
              "  </tbody>\n",
              "</table>\n",
              "</div>"
            ],
            "text/plain": [
              "   Unnamed: 0     Label  ... Label_2_Virus_category Image_Count\n",
              "0           0    Normal  ...                    NaN        1576\n",
              "1           1  Pnemonia  ...                   ARDS           2\n",
              "2           2  Pnemonia  ...                    NaN        1493\n",
              "3           3  Pnemonia  ...               COVID-19          58\n",
              "4           4  Pnemonia  ...                   SARS           4\n",
              "\n",
              "[5 rows x 5 columns]"
            ]
          },
          "metadata": {
            "tags": []
          },
          "execution_count": 6
        }
      ]
    },
    {
      "cell_type": "code",
      "metadata": {
        "id": "xVrhIfdt7fvH",
        "colab_type": "code",
        "colab": {}
      },
      "source": [
        "# Storing TRAIN and TEST data into seperate dataframes\n",
        "train_data = df[df['Dataset_type'] == 'TRAIN']\n",
        "test_data = df[df['Dataset_type'] == 'TEST']"
      ],
      "execution_count": 0,
      "outputs": []
    },
    {
      "cell_type": "code",
      "metadata": {
        "id": "bN4B791B7r-9",
        "colab_type": "code",
        "outputId": "574e5646-ea45-4b13-8734-b707e96d5c4a",
        "colab": {
          "base_uri": "https://localhost:8080/",
          "height": 195
        }
      },
      "source": [
        "test_data.head()"
      ],
      "execution_count": 0,
      "outputs": [
        {
          "output_type": "execute_result",
          "data": {
            "text/html": [
              "<div>\n",
              "<style scoped>\n",
              "    .dataframe tbody tr th:only-of-type {\n",
              "        vertical-align: middle;\n",
              "    }\n",
              "\n",
              "    .dataframe tbody tr th {\n",
              "        vertical-align: top;\n",
              "    }\n",
              "\n",
              "    .dataframe thead th {\n",
              "        text-align: right;\n",
              "    }\n",
              "</style>\n",
              "<table border=\"1\" class=\"dataframe\">\n",
              "  <thead>\n",
              "    <tr style=\"text-align: right;\">\n",
              "      <th></th>\n",
              "      <th>Unnamed: 0</th>\n",
              "      <th>X_ray_image_name</th>\n",
              "      <th>Label</th>\n",
              "      <th>Dataset_type</th>\n",
              "      <th>Label_2_Virus_category</th>\n",
              "      <th>Label_1_Virus_category</th>\n",
              "    </tr>\n",
              "  </thead>\n",
              "  <tbody>\n",
              "    <tr>\n",
              "      <th>5286</th>\n",
              "      <td>5309</td>\n",
              "      <td>IM-0021-0001.jpeg</td>\n",
              "      <td>Normal</td>\n",
              "      <td>TEST</td>\n",
              "      <td>NaN</td>\n",
              "      <td>NaN</td>\n",
              "    </tr>\n",
              "    <tr>\n",
              "      <th>5287</th>\n",
              "      <td>5310</td>\n",
              "      <td>IM-0019-0001.jpeg</td>\n",
              "      <td>Normal</td>\n",
              "      <td>TEST</td>\n",
              "      <td>NaN</td>\n",
              "      <td>NaN</td>\n",
              "    </tr>\n",
              "    <tr>\n",
              "      <th>5288</th>\n",
              "      <td>5311</td>\n",
              "      <td>IM-0017-0001.jpeg</td>\n",
              "      <td>Normal</td>\n",
              "      <td>TEST</td>\n",
              "      <td>NaN</td>\n",
              "      <td>NaN</td>\n",
              "    </tr>\n",
              "    <tr>\n",
              "      <th>5289</th>\n",
              "      <td>5312</td>\n",
              "      <td>IM-0016-0001.jpeg</td>\n",
              "      <td>Normal</td>\n",
              "      <td>TEST</td>\n",
              "      <td>NaN</td>\n",
              "      <td>NaN</td>\n",
              "    </tr>\n",
              "    <tr>\n",
              "      <th>5290</th>\n",
              "      <td>5313</td>\n",
              "      <td>IM-0015-0001.jpeg</td>\n",
              "      <td>Normal</td>\n",
              "      <td>TEST</td>\n",
              "      <td>NaN</td>\n",
              "      <td>NaN</td>\n",
              "    </tr>\n",
              "  </tbody>\n",
              "</table>\n",
              "</div>"
            ],
            "text/plain": [
              "      Unnamed: 0  ... Label_1_Virus_category\n",
              "5286        5309  ...                    NaN\n",
              "5287        5310  ...                    NaN\n",
              "5288        5311  ...                    NaN\n",
              "5289        5312  ...                    NaN\n",
              "5290        5313  ...                    NaN\n",
              "\n",
              "[5 rows x 6 columns]"
            ]
          },
          "metadata": {
            "tags": []
          },
          "execution_count": 11
        }
      ]
    },
    {
      "cell_type": "code",
      "metadata": {
        "id": "2fZZ9UMa64xq",
        "colab_type": "code",
        "colab": {}
      },
      "source": [
        "# Filling NaN values with 'missing'\n",
        "train = train_data.fillna('missing')\n",
        "test = test_data.fillna('missing')"
      ],
      "execution_count": 0,
      "outputs": []
    },
    {
      "cell_type": "markdown",
      "metadata": {
        "id": "NABr8e_LCIRi",
        "colab_type": "text"
      },
      "source": [
        "## Adding a column- 'Covid' to the TRAIN dataframe , \n",
        "* if Label is Normal - negative \n",
        "* if Label is 'Pnemonia' and 'Label_2_Virus_category' - positive "
      ]
    },
    {
      "cell_type": "code",
      "metadata": {
        "id": "sUrIKSjq-gMX",
        "colab_type": "code",
        "colab": {}
      },
      "source": [
        "final_train_data = train[(train['Label'] == 'Normal') | ((train['Label'] == 'Pnemonia') & (train['Label_2_Virus_category'] == 'COVID-19'))]\n",
        "final_train_data['Covid'] = ['negative' if holder == 'Normal' else 'positive' for holder in final_train_data['Label']]"
      ],
      "execution_count": 0,
      "outputs": []
    },
    {
      "cell_type": "code",
      "metadata": {
        "id": "s-L4weyxyqEr",
        "colab_type": "code",
        "outputId": "08cef7d5-5252-4736-c45a-9920829c6596",
        "colab": {
          "base_uri": "https://localhost:8080/",
          "height": 151
        }
      },
      "source": [
        "# Total number of covid X-rays in TRAIN set - 58\n",
        "final_train_data.loc[final_train_data['Covid'] == 'positive'].count() "
      ],
      "execution_count": 0,
      "outputs": [
        {
          "output_type": "execute_result",
          "data": {
            "text/plain": [
              "Unnamed: 0                58\n",
              "X_ray_image_name          58\n",
              "Label                     58\n",
              "Dataset_type              58\n",
              "Label_2_Virus_category    58\n",
              "Label_1_Virus_category    58\n",
              "Covid                     58\n",
              "dtype: int64"
            ]
          },
          "metadata": {
            "tags": []
          },
          "execution_count": 14
        }
      ]
    },
    {
      "cell_type": "code",
      "metadata": {
        "id": "RZ5Ko4Gh_hAg",
        "colab_type": "code",
        "outputId": "5ab8d0de-c774-4ffb-977d-ebbc06297166",
        "colab": {
          "base_uri": "https://localhost:8080/",
          "height": 195
        }
      },
      "source": [
        "final_train_data.head()"
      ],
      "execution_count": 0,
      "outputs": [
        {
          "output_type": "execute_result",
          "data": {
            "text/html": [
              "<div>\n",
              "<style scoped>\n",
              "    .dataframe tbody tr th:only-of-type {\n",
              "        vertical-align: middle;\n",
              "    }\n",
              "\n",
              "    .dataframe tbody tr th {\n",
              "        vertical-align: top;\n",
              "    }\n",
              "\n",
              "    .dataframe thead th {\n",
              "        text-align: right;\n",
              "    }\n",
              "</style>\n",
              "<table border=\"1\" class=\"dataframe\">\n",
              "  <thead>\n",
              "    <tr style=\"text-align: right;\">\n",
              "      <th></th>\n",
              "      <th>Unnamed: 0</th>\n",
              "      <th>X_ray_image_name</th>\n",
              "      <th>Label</th>\n",
              "      <th>Dataset_type</th>\n",
              "      <th>Label_2_Virus_category</th>\n",
              "      <th>Label_1_Virus_category</th>\n",
              "      <th>Covid</th>\n",
              "    </tr>\n",
              "  </thead>\n",
              "  <tbody>\n",
              "    <tr>\n",
              "      <th>0</th>\n",
              "      <td>0</td>\n",
              "      <td>IM-0128-0001.jpeg</td>\n",
              "      <td>Normal</td>\n",
              "      <td>TRAIN</td>\n",
              "      <td>missing</td>\n",
              "      <td>missing</td>\n",
              "      <td>negative</td>\n",
              "    </tr>\n",
              "    <tr>\n",
              "      <th>1</th>\n",
              "      <td>1</td>\n",
              "      <td>IM-0127-0001.jpeg</td>\n",
              "      <td>Normal</td>\n",
              "      <td>TRAIN</td>\n",
              "      <td>missing</td>\n",
              "      <td>missing</td>\n",
              "      <td>negative</td>\n",
              "    </tr>\n",
              "    <tr>\n",
              "      <th>2</th>\n",
              "      <td>2</td>\n",
              "      <td>IM-0125-0001.jpeg</td>\n",
              "      <td>Normal</td>\n",
              "      <td>TRAIN</td>\n",
              "      <td>missing</td>\n",
              "      <td>missing</td>\n",
              "      <td>negative</td>\n",
              "    </tr>\n",
              "    <tr>\n",
              "      <th>3</th>\n",
              "      <td>3</td>\n",
              "      <td>IM-0122-0001.jpeg</td>\n",
              "      <td>Normal</td>\n",
              "      <td>TRAIN</td>\n",
              "      <td>missing</td>\n",
              "      <td>missing</td>\n",
              "      <td>negative</td>\n",
              "    </tr>\n",
              "    <tr>\n",
              "      <th>4</th>\n",
              "      <td>4</td>\n",
              "      <td>IM-0119-0001.jpeg</td>\n",
              "      <td>Normal</td>\n",
              "      <td>TRAIN</td>\n",
              "      <td>missing</td>\n",
              "      <td>missing</td>\n",
              "      <td>negative</td>\n",
              "    </tr>\n",
              "  </tbody>\n",
              "</table>\n",
              "</div>"
            ],
            "text/plain": [
              "   Unnamed: 0   X_ray_image_name  ... Label_1_Virus_category     Covid\n",
              "0           0  IM-0128-0001.jpeg  ...                missing  negative\n",
              "1           1  IM-0127-0001.jpeg  ...                missing  negative\n",
              "2           2  IM-0125-0001.jpeg  ...                missing  negative\n",
              "3           3  IM-0122-0001.jpeg  ...                missing  negative\n",
              "4           4  IM-0119-0001.jpeg  ...                missing  negative\n",
              "\n",
              "[5 rows x 7 columns]"
            ]
          },
          "metadata": {
            "tags": []
          },
          "execution_count": 15
        }
      ]
    },
    {
      "cell_type": "markdown",
      "metadata": {
        "id": "eYYfhvyGFc84",
        "colab_type": "text"
      },
      "source": [
        "## X-Ray image Visualization"
      ]
    },
    {
      "cell_type": "code",
      "metadata": {
        "id": "xvnMf7mFEIGM",
        "colab_type": "code",
        "outputId": "ec3b1724-e314-4b35-b128-78726e00cb6e",
        "colab": {
          "base_uri": "https://localhost:8080/",
          "height": 594
        }
      },
      "source": [
        "# Normal X-ray\n",
        "fig = plt.figure()\n",
        "fig.suptitle('normal')\n",
        "plt.imshow(mpimg.imread(\"Coronahack-Chest-XRay-Dataset/Coronahack-Chest-XRay-Dataset/train/IM-0128-0001.jpeg\"), cmap='gray') \n",
        "\n",
        "# Covid X-ray \n",
        "fig = plt.figure()\n",
        "fig.suptitle('covid')\n",
        "plt.imshow(mpimg.imread(\"Coronahack-Chest-XRay-Dataset/Coronahack-Chest-XRay-Dataset/train/kjr-21-e25-g001-l-a.jpg\"), cmap='gray') "
      ],
      "execution_count": 0,
      "outputs": [
        {
          "output_type": "execute_result",
          "data": {
            "text/plain": [
              "<matplotlib.image.AxesImage at 0x7ff7283522e8>"
            ]
          },
          "metadata": {
            "tags": []
          },
          "execution_count": 56
        },
        {
          "output_type": "display_data",
          "data": {
            "image/png": "[encoded data removed]",
            "text/plain": [
              "<Figure size 432x288 with 1 Axes>"
            ]
          },
          "metadata": {
            "tags": [],
            "needs_background": "light"
          }
        },
        {
          "output_type": "display_data",
          "data": {
            "image/png": "[encoded data removed]",
            "text/plain": [
              "<Figure size 432x288 with 1 Axes>"
            ]
          },
          "metadata": {
            "tags": [],
            "needs_background": "light"
          }
        }
      ]
    },
    {
      "cell_type": "markdown",
      "metadata": {
        "id": "8QHpMnQbDLKy",
        "colab_type": "text"
      },
      "source": [
        "## Splitting TRAIN data into train and validation \n",
        "80-20 split"
      ]
    },
    {
      "cell_type": "code",
      "metadata": {
        "id": "zgmwDnHa_mpO",
        "colab_type": "code",
        "colab": {}
      },
      "source": [
        "X_train = final_train_data # Changing variable \n",
        "y_train = final_train_data[\"Covid\"] # Not needed since we are going to load data from dataframe, only used for train_test_split \n",
        "\n",
        "X_test = test "
      ],
      "execution_count": 0,
      "outputs": []
    },
    {
      "cell_type": "code",
      "metadata": {
        "id": "0muWc3Ns-0f7",
        "colab_type": "code",
        "colab": {}
      },
      "source": [
        " X_train, X_val, y_train, y_val = train_test_split(X_train, y_train, test_size=0.20, shuffle=True) # 80-20 split"
      ],
      "execution_count": 0,
      "outputs": []
    },
    {
      "cell_type": "code",
      "metadata": {
        "id": "fDjuSk75Bw_Z",
        "colab_type": "code",
        "colab": {}
      },
      "source": [
        "# Directories of the images\n",
        "test_image_dir = 'Coronahack-Chest-XRay-Dataset/Coronahack-Chest-XRay-Dataset/test'\n",
        "train_image_dir = 'Coronahack-Chest-XRay-Dataset/Coronahack-Chest-XRay-Dataset/train'"
      ],
      "execution_count": 0,
      "outputs": []
    },
    {
      "cell_type": "markdown",
      "metadata": {
        "id": "HTvYTEsfGCCk",
        "colab_type": "text"
      },
      "source": [
        "## Image Augmentation using ImageDataGenerator\n",
        "Expand the size of a training dataset\n",
        "\n",
        "Test/Validation data:\n",
        "* rescale the image 1./255,\n",
        "* rotatate by 90 degrees, \n",
        "* shift width and height by 0.15,\n",
        "* flip horizontally and\n",
        "* zoom by 0.5.\n",
        "\n",
        "Train data:\n",
        "* rescale the image 1./255"
      ]
    },
    {
      "cell_type": "code",
      "metadata": {
        "id": "iJw3Ogu_dYki",
        "colab_type": "code",
        "colab": {}
      },
      "source": [
        "train_image_generator = ImageDataGenerator(\n",
        "    rescale=1./255,\n",
        "    rotation_range=90,\n",
        "    width_shift_range=0.15,\n",
        "    height_shift_range=0.15,\n",
        "    horizontal_flip=True,\n",
        "    zoom_range=0.5, \n",
        ")\n",
        "\n",
        "test_image_generator = ImageDataGenerator(\n",
        "    rescale=1./255\n",
        ")"
      ],
      "execution_count": 0,
      "outputs": []
    },
    {
      "cell_type": "code",
      "metadata": {
        "id": "EqzbSDN-AmBl",
        "colab_type": "code",
        "outputId": "af06a10b-e033-41ea-a295-99fc3d58f794",
        "colab": {
          "base_uri": "https://localhost:8080/",
          "height": 67
        }
      },
      "source": [
        "# flow_from_dataframe() method\n",
        "# Takes the dataframe and the path to a directory + generates batches.\n",
        "# The generated batches contain augmented/normalized data.\n",
        "\n",
        "train_generator = train_image_generator.flow_from_dataframe(\n",
        "    dataframe=X_train,\n",
        "    directory=train_image_dir,\n",
        "    x_col='X_ray_image_name',\n",
        "    y_col='Covid',\n",
        "    batch_size=16,\n",
        "    shuffle=True,\n",
        "    class_mode='binary',\n",
        "    target_size=(224, 224)\n",
        ")\n",
        "\n",
        "validation_generator = train_image_generator.flow_from_dataframe(\n",
        "    dataframe=X_val,\n",
        "    directory=train_image_dir,\n",
        "    x_col='X_ray_image_name',\n",
        "    y_col='Covid',\n",
        "    batch_size=16,\n",
        "    shuffle=True,\n",
        "    class_mode='binary',\n",
        "    target_size=(224, 224)\n",
        ")\n",
        "\n",
        "test_generator = test_image_generator.flow_from_dataframe(\n",
        "    dataframe=X_test ,\n",
        "    directory=test_image_dir,\n",
        "    x_col='X_ray_image_name',\n",
        "    shuffle=False,\n",
        "    batch_size=16,\n",
        "    class_mode=None,\n",
        "    target_size=(224, 224))"
      ],
      "execution_count": 0,
      "outputs": [
        {
          "output_type": "stream",
          "text": [
            "Found 1120 validated image filenames belonging to 2 classes.\n",
            "Found 280 validated image filenames belonging to 2 classes.\n",
            "Found 624 validated image filenames.\n"
          ],
          "name": "stdout"
        }
      ]
    },
    {
      "cell_type": "markdown",
      "metadata": {
        "id": "b4tdq7Fkb85a",
        "colab_type": "text"
      },
      "source": [
        "# Model \n",
        "Inspired by the famous AlexNet and the FastRCNN paper. The inputs are 224x224 images, which are passed through a total of four convolution layers, then flattened to 1D tensors for classification.\n",
        "\n",
        "Consist of total 14 layers"
      ]
    },
    {
      "cell_type": "code",
      "metadata": {
        "id": "p3XNWET2DapX",
        "colab_type": "code",
        "colab": {}
      },
      "source": [
        "model = Sequential([\n",
        "        \n",
        "        # Layers 1 and 2 \n",
        "        Conv2D(64, (3, 3), padding='same',input_shape=(224, 224, 3)),\n",
        "        Activation('relu'),\n",
        "        MaxPooling2D(pool_size=(2, 2), strides=(2,2), padding='same'),\n",
        "        BatchNormalization(),\n",
        "        \n",
        "        # Layers 3 and 4 \n",
        "        Conv2D(128, (3, 3), padding='same'),\n",
        "        Activation('relu'),\n",
        "        MaxPooling2D(pool_size=(2, 2), strides=(2,2), padding='same'),\n",
        "        BatchNormalization(),\n",
        "    \n",
        "        # Layers 5 and 6  \n",
        "        Conv2D(256, (3, 3), padding='same'),\n",
        "        Activation('relu'),\n",
        "        MaxPooling2D(pool_size=(2, 2), strides=(2,2), padding='same'),\n",
        "        BatchNormalization(),\n",
        "    \n",
        "        # Layers 7 and 8  \n",
        "        Conv2D(512, (3, 3), padding='same'),\n",
        "        Activation('relu'),\n",
        "        MaxPooling2D(pool_size=(2, 2), strides=(2,2), padding='same'),\n",
        "        BatchNormalization(),\n",
        "    \n",
        "        # Layer 9 \n",
        "        Flatten(),\n",
        "        \n",
        "        # Layer 10 \n",
        "        Dense(128, activation='relu'),\n",
        "        Dropout(0.25),\n",
        "        \n",
        "        # Layer 11 \n",
        "        Dense(256, activation='relu'),\n",
        "        Dropout(0.25),\n",
        "        \n",
        "        # Layer 12  \n",
        "        Dense(512, activation='relu'),\n",
        "        Dropout(0.25),\n",
        "    \n",
        "        # Layer 13 \n",
        "        Dense(1024, activation='relu'),\n",
        "        Dropout(0.25),\n",
        "        \n",
        "        # Layer 14\n",
        "        Dense(1, activation =\"sigmoid\")    \n",
        "        ])"
      ],
      "execution_count": 0,
      "outputs": []
    },
    {
      "cell_type": "code",
      "metadata": {
        "id": "KjAIgnRAFNwF",
        "colab_type": "code",
        "outputId": "5f95e4f1-ae8c-43e1-a384-d9a0c8aeb387",
        "colab": {
          "base_uri": "https://localhost:8080/",
          "height": 1000
        }
      },
      "source": [
        "model.summary()"
      ],
      "execution_count": 0,
      "outputs": [
        {
          "output_type": "stream",
          "text": [
            "Model: \"sequential\"\n",
            "_________________________________________________________________\n",
            "Layer (type)                 Output Shape              Param #   \n",
            "=================================================================\n",
            "conv2d (Conv2D)              (None, 224, 224, 64)      1792      \n",
            "_________________________________________________________________\n",
            "activation (Activation)      (None, 224, 224, 64)      0         \n",
            "_________________________________________________________________\n",
            "max_pooling2d (MaxPooling2D) (None, 112, 112, 64)      0         \n",
            "_________________________________________________________________\n",
            "batch_normalization (BatchNo (None, 112, 112, 64)      256       \n",
            "_________________________________________________________________\n",
            "conv2d_1 (Conv2D)            (None, 112, 112, 128)     73856     \n",
            "_________________________________________________________________\n",
            "activation_1 (Activation)    (None, 112, 112, 128)     0         \n",
            "_________________________________________________________________\n",
            "max_pooling2d_1 (MaxPooling2 (None, 56, 56, 128)       0         \n",
            "_________________________________________________________________\n",
            "batch_normalization_1 (Batch (None, 56, 56, 128)       512       \n",
            "_________________________________________________________________\n",
            "conv2d_2 (Conv2D)            (None, 56, 56, 256)       295168    \n",
            "_________________________________________________________________\n",
            "activation_2 (Activation)    (None, 56, 56, 256)       0         \n",
            "_________________________________________________________________\n",
            "max_pooling2d_2 (MaxPooling2 (None, 28, 28, 256)       0         \n",
            "_________________________________________________________________\n",
            "batch_normalization_2 (Batch (None, 28, 28, 256)       1024      \n",
            "_________________________________________________________________\n",
            "conv2d_3 (Conv2D)            (None, 28, 28, 512)       1180160   \n",
            "_________________________________________________________________\n",
            "activation_3 (Activation)    (None, 28, 28, 512)       0         \n",
            "_________________________________________________________________\n",
            "max_pooling2d_3 (MaxPooling2 (None, 14, 14, 512)       0         \n",
            "_________________________________________________________________\n",
            "batch_normalization_3 (Batch (None, 14, 14, 512)       2048      \n",
            "_________________________________________________________________\n",
            "flatten (Flatten)            (None, 100352)            0         \n",
            "_________________________________________________________________\n",
            "dense (Dense)                (None, 128)               12845184  \n",
            "_________________________________________________________________\n",
            "dropout (Dropout)            (None, 128)               0         \n",
            "_________________________________________________________________\n",
            "dense_1 (Dense)              (None, 256)               33024     \n",
            "_________________________________________________________________\n",
            "dropout_1 (Dropout)          (None, 256)               0         \n",
            "_________________________________________________________________\n",
            "dense_2 (Dense)              (None, 512)               131584    \n",
            "_________________________________________________________________\n",
            "dropout_2 (Dropout)          (None, 512)               0         \n",
            "_________________________________________________________________\n",
            "dense_3 (Dense)              (None, 1024)              525312    \n",
            "_________________________________________________________________\n",
            "dropout_3 (Dropout)          (None, 1024)              0         \n",
            "_________________________________________________________________\n",
            "dense_4 (Dense)              (None, 1)                 1025      \n",
            "=================================================================\n",
            "Total params: 15,090,945\n",
            "Trainable params: 15,089,025\n",
            "Non-trainable params: 1,920\n",
            "_________________________________________________________________\n"
          ],
          "name": "stdout"
        }
      ]
    },
    {
      "cell_type": "code",
      "metadata": {
        "id": "YasPmP06FV5V",
        "colab_type": "code",
        "colab": {}
      },
      "source": [
        "# Creating a callback which stops the training when the val_accuracy reaches below 0.2 to prevent overfitting\n",
        "class myCallback(tf.keras.callbacks.Callback):\n",
        "  def on_epoch_end(self, epoch, logs={}):\n",
        "    if(logs.get('val_loss') < 0.2):\n",
        "      print(\"\\n Reached val_loss < 0.2\")\n",
        "      self.model.stop_training = True"
      ],
      "execution_count": 0,
      "outputs": []
    },
    {
      "cell_type": "markdown",
      "metadata": {
        "id": "B8n8P7dq_w8w",
        "colab_type": "text"
      },
      "source": [
        "## Training the model on our data"
      ]
    },
    {
      "cell_type": "code",
      "metadata": {
        "id": "-1IUIKZTFeWy",
        "colab_type": "code",
        "outputId": "58b377af-f37c-4c2b-fd6b-355240c89987",
        "colab": {
          "base_uri": "https://localhost:8080/",
          "height": 420
        }
      },
      "source": [
        "epochs = 20 # No of iterations through the dataset\n",
        "Callback =  myCallback()\n",
        "model.compile(optimizer = 'adam', loss = 'binary_crossentropy', metrics = ['accuracy'])\n",
        "history = model.fit(train_generator,\n",
        "                   validation_data=validation_generator,\n",
        "                   epochs=epochs,\n",
        "                   shuffle=True, callbacks = Callback)"
      ],
      "execution_count": 0,
      "outputs": [
        {
          "output_type": "stream",
          "text": [
            "Epoch 1/20\n",
            "70/70 [==============================] - 48s 681ms/step - loss: 1.1123 - accuracy: 0.9268 - val_loss: 0.2840 - val_accuracy: 0.9214\n",
            "Epoch 2/20\n",
            "70/70 [==============================] - 48s 680ms/step - loss: 0.7844 - accuracy: 0.9375 - val_loss: 0.2597 - val_accuracy: 0.9393\n",
            "Epoch 3/20\n",
            "70/70 [==============================] - 47s 675ms/step - loss: 0.3966 - accuracy: 0.9375 - val_loss: 1.2033 - val_accuracy: 0.0857\n",
            "Epoch 4/20\n",
            "70/70 [==============================] - 47s 677ms/step - loss: 0.2805 - accuracy: 0.9491 - val_loss: 1.1761 - val_accuracy: 0.0607\n",
            "Epoch 5/20\n",
            "70/70 [==============================] - 47s 676ms/step - loss: 0.1827 - accuracy: 0.9563 - val_loss: 1.0651 - val_accuracy: 0.0786\n",
            "Epoch 6/20\n",
            "70/70 [==============================] - 47s 678ms/step - loss: 0.1196 - accuracy: 0.9616 - val_loss: 2.1730 - val_accuracy: 0.0643\n",
            "Epoch 7/20\n",
            "70/70 [==============================] - 47s 676ms/step - loss: 0.0996 - accuracy: 0.9696 - val_loss: 0.2228 - val_accuracy: 0.9286\n",
            "Epoch 8/20\n",
            "70/70 [==============================] - 47s 668ms/step - loss: 0.1215 - accuracy: 0.9598 - val_loss: 0.3502 - val_accuracy: 0.8500\n",
            "Epoch 9/20\n",
            "70/70 [==============================] - 47s 673ms/step - loss: 0.1644 - accuracy: 0.9607 - val_loss: 2.6021 - val_accuracy: 0.0857\n",
            "Epoch 10/20\n",
            "70/70 [==============================] - 47s 676ms/step - loss: 0.1289 - accuracy: 0.9598 - val_loss: 0.2601 - val_accuracy: 0.9393\n",
            "Epoch 11/20\n",
            "70/70 [==============================] - ETA: 0s - loss: 0.1242 - accuracy: 0.9580\n",
            " Reached val_loss < 0.2\n",
            "70/70 [==============================] - 47s 673ms/step - loss: 0.1242 - accuracy: 0.9580 - val_loss: 0.1534 - val_accuracy: 0.9357\n"
          ],
          "name": "stdout"
        }
      ]
    },
    {
      "cell_type": "markdown",
      "metadata": {
        "id": "cXzfuKNA_jWh",
        "colab_type": "text"
      },
      "source": [
        "## Graphs\n",
        "\n",
        "Visualizing the accuracy and loss during training"
      ]
    },
    {
      "cell_type": "code",
      "metadata": {
        "id": "0QN3d6thukc1",
        "colab_type": "code",
        "outputId": "02ea8c6d-beaa-4041-a0b6-c98f96032fd3",
        "colab": {
          "base_uri": "https://localhost:8080/",
          "height": 585
        }
      },
      "source": [
        "# Accuracy\n",
        "plt.plot(history.history['accuracy'])\n",
        "plt.plot(history.history['val_accuracy'])\n",
        "plt.title('model accuracy')\n",
        "plt.ylabel('accuracy')\n",
        "plt.xlabel('epoch')\n",
        "plt.legend(['train', 'val'], loc='bottom right')\n",
        "plt.show()\n",
        "\n",
        "# Loss\n",
        "plt.plot(history.history['loss'])\n",
        "plt.plot(history.history['val_loss'])\n",
        "plt.title('model loss')\n",
        "plt.ylabel('loss')\n",
        "plt.xlabel('epoch')\n",
        "plt.legend(['train', 'val'], loc='upper right')\n",
        "plt.show()"
      ],
      "execution_count": 0,
      "outputs": [
        {
          "output_type": "display_data",
          "data": {
            "image/png": "[encoded data removed]",
            "text/plain": [
              "<Figure size 432x288 with 1 Axes>"
            ]
          },
          "metadata": {
            "tags": []
          }
        },
        {
          "output_type": "display_data",
          "data": {
            "image/png": "[encoded data removed]",
            "text/plain": [
              "<Figure size 432x288 with 1 Axes>"
            ]
          },
          "metadata": {
            "tags": []
          }
        }
      ]
    },
    {
      "cell_type": "markdown",
      "metadata": {
        "id": "asEL3pX_dw31",
        "colab_type": "text"
      },
      "source": [
        "## Saving model for future use"
      ]
    },
    {
      "cell_type": "code",
      "metadata": {
        "id": "JiRN06_4OK89",
        "colab_type": "code",
        "colab": {}
      },
      "source": [
        "model.save(\"model.h5\")"
      ],
      "execution_count": 0,
      "outputs": []
    },
    {
      "cell_type": "markdown",
      "metadata": {
        "id": "Kj4D6RGN-3Nf",
        "colab_type": "text"
      },
      "source": [
        "# Results\n",
        "\n",
        "\n",
        "\n",
        "The model was run for 20 epochs maximum , batchsize = 16. Callback was implemented to check if validation loss was < 0.2 to stop the training and prevent overfitting\n",
        "\n",
        "We recieved\n",
        "* loss: 0.1242 - accuracy: 95.80% on the training set\n",
        "* val_loss: 0.1534 - val_accuracy: 93.57% on the validation set\n",
        "\n",
        "This model detects \n",
        "* 42+15 = 57/58 positive cases from train data \n",
        "* 77 positive casesfrom test data "
      ]
    },
    {
      "cell_type": "code",
      "metadata": {
        "id": "1GMf4fdZ4wtS",
        "colab_type": "code",
        "outputId": "f1da613f-4393-4c12-ef59-162d0afdade1",
        "colab": {
          "base_uri": "https://localhost:8080/",
          "height": 50
        }
      },
      "source": [
        "train_generator.reset() \n",
        "pred=model.predict(train_generator,verbose=1)\n",
        "labels = (pred > 0.5).astype(np.int)\n",
        "np.count_nonzero(labels)"
      ],
      "execution_count": 0,
      "outputs": [
        {
          "output_type": "stream",
          "text": [
            "70/70 [==============================] - 37s 530ms/step\n"
          ],
          "name": "stdout"
        },
        {
          "output_type": "execute_result",
          "data": {
            "text/plain": [
              "42"
            ]
          },
          "metadata": {
            "tags": []
          },
          "execution_count": 50
        }
      ]
    },
    {
      "cell_type": "code",
      "metadata": {
        "id": "h4-F9qKh8ztv",
        "colab_type": "code",
        "outputId": "aac032b0-f6f9-4372-cda1-e497c1965007",
        "colab": {
          "base_uri": "https://localhost:8080/",
          "height": 50
        }
      },
      "source": [
        "validation_generator.reset()\n",
        "pred=model.predict(validation_generator,verbose=1)\n",
        "labels = (pred > 0.5).astype(np.int)\n",
        "np.count_nonzero(labels)"
      ],
      "execution_count": 0,
      "outputs": [
        {
          "output_type": "stream",
          "text": [
            "18/18 [==============================] - 9s 493ms/step\n"
          ],
          "name": "stdout"
        },
        {
          "output_type": "execute_result",
          "data": {
            "text/plain": [
              "15"
            ]
          },
          "metadata": {
            "tags": []
          },
          "execution_count": 46
        }
      ]
    },
    {
      "cell_type": "code",
      "metadata": {
        "id": "bUZmQKbZKBOc",
        "colab_type": "code",
        "outputId": "b2121645-df05-4e04-abae-d09ce45c69cc",
        "colab": {
          "base_uri": "https://localhost:8080/",
          "height": 50
        }
      },
      "source": [
        "test_generator.reset()\n",
        "pred=model.predict(test_generator,verbose=1)\n",
        "labels = (pred > 0.5).astype(np.int)\n",
        "np.count_nonzero(labels)"
      ],
      "execution_count": 0,
      "outputs": [
        {
          "output_type": "stream",
          "text": [
            "39/39 [==============================] - 6s 158ms/step\n"
          ],
          "name": "stdout"
        },
        {
          "output_type": "execute_result",
          "data": {
            "text/plain": [
              "77"
            ]
          },
          "metadata": {
            "tags": []
          },
          "execution_count": 51
        }
      ]
    }
  ]
}